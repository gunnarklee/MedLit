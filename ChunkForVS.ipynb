{
 "cells": [
  {
   "cell_type": "code",
   "execution_count": 138,
   "metadata": {
    "collapsed": false
   },
   "outputs": [
    {
     "name": "stdout",
     "output_type": "stream",
     "text": [
      "/Users/GunnarK/Desktop/W251Code/pubmedtop\n"
     ]
    }
   ],
   "source": [
    "### folder archive chunk utility > Gunnar Kleemann Berkeley MIDS 251 final 4/7/14\n",
    "### instructions: \n",
    "### download a tar.gz file\n",
    "### open this notebook from the folder with your tar.gz file\n",
    "\n",
    "### specify the numnber of chunks as below (CnkCt=8)\n",
    "### specify the archive file (ArchiveFl='articles.O-Z.tar.gz')\n",
    "\n",
    "### run \n",
    "### find numbered chunks in \"pubmedchnks\"\n",
    "\n",
    "CnkCt=8\n",
    "ArchiveFl='articles.O-Z.tar.gz'\n",
    "\n",
    "import os\n",
    "import tarfile\n",
    "import glob as glob\n",
    "import shutil\n",
    "\n",
    "#os.chdir('/Users/GunnarK/Desktop/W251Code')\n",
    "#os.setcwd('/Users/GunnarK/Desktop/W251Code')\n",
    "\n",
    "# set up the directory structure and move the zipped archive in\n",
    "%mkdir pubmedtop\n",
    "%mkdir pubmedtop/pubmedchnks\n",
    "%mkdir pubmedtop/pubmedorig\n",
    "%mkdir pubmedtop/pubmedextr\n",
    "#%mv ./articles.O-Z.tar.gz \n",
    "shutil.move(ArchiveFl, './pubmedtop/pubmedorig/' + ArchiveFl)\n",
    "%cd pubmedtop\n",
    "\n",
    "# extract the tarfile\n",
    "#import tarfile\n",
    "tfile = tarfile.open(\"./pubmedorig/\" + ArchiveFl, 'r:gz')\n",
    "tfile.extractall('./pubmedextr')\n"
   ]
  },
  {
   "cell_type": "code",
   "execution_count": 139,
   "metadata": {
    "collapsed": false,
    "scrolled": true
   },
   "outputs": [],
   "source": [
    "#place files in folders  \n",
    "folderls=glob.glob('./pubmedextr/*')\n",
    "FldNum=range(1,CnkCt+1)\n",
    "FldAsnLs=np.repeat(x,(len(folderls)/CnkCt)+1)"
   ]
  },
  {
   "cell_type": "code",
   "execution_count": 140,
   "metadata": {
    "collapsed": false
   },
   "outputs": [],
   "source": [
    "#move each to its folder\n",
    "for n in range(len(folderls)):\n",
    "    Cfld=folderls[n]\n",
    "    #print Cfld \n",
    "    #print n\n",
    "    TgFld=str(FldAsnLs[n])\n",
    "          #os.mkdir('./pubmedchnks/' + str(f+1))     \n",
    "    shutil.move(Cfld , './pubmedchnks/' + str(TgFld)+ Cfld[12:len(Cfld)])"
   ]
  },
  {
   "cell_type": "code",
   "execution_count": null,
   "metadata": {
    "collapsed": true
   },
   "outputs": [],
   "source": []
  }
 ],
 "metadata": {
  "kernelspec": {
   "display_name": "Python 2",
   "language": "python",
   "name": "python2"
  },
  "language_info": {
   "codemirror_mode": {
    "name": "ipython",
    "version": 2
   },
   "file_extension": ".py",
   "mimetype": "text/x-python",
   "name": "python",
   "nbconvert_exporter": "python",
   "pygments_lexer": "ipython2",
   "version": "2.7.9"
  }
 },
 "nbformat": 4,
 "nbformat_minor": 0
}
